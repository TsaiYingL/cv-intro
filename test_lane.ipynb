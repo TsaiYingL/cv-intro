{
 "cells": [
  {
   "cell_type": "code",
   "execution_count": 2,
   "metadata": {},
   "outputs": [],
   "source": [
    "import cv2\n",
    "import gi\n",
    "import numpy as np\n",
    "from threading import Thread, Event\n",
    "from time import sleep\n",
    "from pymavlink import mavutil\n",
    "from video import Video\n",
    "from bluerov_interface import BlueROV\n",
    "import lane_detection\n",
    "from video import Video"
   ]
  },
  {
   "cell_type": "code",
   "execution_count": 3,
   "metadata": {},
   "outputs": [],
   "source": [
    "# Create the video object\n",
    "video = Video()"
   ]
  },
  {
   "cell_type": "code",
   "execution_count": 5,
   "metadata": {},
   "outputs": [
    {
     "ename": "KeyboardInterrupt",
     "evalue": "",
     "output_type": "error",
     "traceback": [
      "\u001b[0;31m---------------------------------------------------------------------------\u001b[0m",
      "\u001b[0;31mKeyboardInterrupt\u001b[0m                         Traceback (most recent call last)",
      "Cell \u001b[0;32mIn[5], line 5\u001b[0m\n\u001b[1;32m      2\u001b[0m mav_comn \u001b[39m=\u001b[39m mavutil\u001b[39m.\u001b[39mmavlink_connection(\u001b[39m\"\u001b[39m\u001b[39mudpin:0.0.0.0:14550\u001b[39m\u001b[39m\"\u001b[39m)\n\u001b[1;32m      4\u001b[0m \u001b[39m# Create the BlueROV object\u001b[39;00m\n\u001b[0;32m----> 5\u001b[0m bluerov \u001b[39m=\u001b[39m BlueROV(mav_connection\u001b[39m=\u001b[39;49mmav_comn)\n\u001b[1;32m      7\u001b[0m frame \u001b[39m=\u001b[39m \u001b[39mNone\u001b[39;00m\n\u001b[1;32m      8\u001b[0m frame_available \u001b[39m=\u001b[39m Event()\n",
      "File \u001b[0;32m~/cv-intro/bluerov_interface.py:10\u001b[0m, in \u001b[0;36mBlueROV.__init__\u001b[0;34m(self, mav_connection)\u001b[0m\n\u001b[1;32m      8\u001b[0m \u001b[39mdef\u001b[39;00m \u001b[39m__init__\u001b[39m(\u001b[39mself\u001b[39m, mav_connection):\n\u001b[1;32m      9\u001b[0m     \u001b[39mself\u001b[39m\u001b[39m.\u001b[39mmav_connection \u001b[39m=\u001b[39m mav_connection\n\u001b[0;32m---> 10\u001b[0m     \u001b[39mself\u001b[39;49m\u001b[39m.\u001b[39;49mmav_connection\u001b[39m.\u001b[39;49mwait_heartbeat()\n\u001b[1;32m     11\u001b[0m     \u001b[39mself\u001b[39m\u001b[39m.\u001b[39mmav_connection\u001b[39m.\u001b[39mset_mode(\u001b[39m\"\u001b[39m\u001b[39mMANUAL\u001b[39m\u001b[39m\"\u001b[39m)\n\u001b[1;32m     12\u001b[0m     \u001b[39mself\u001b[39m\u001b[39m.\u001b[39mmav_connection\u001b[39m.\u001b[39marducopter_arm()\n",
      "File \u001b[0;32m~/.virtualenvs/bluecv/lib/python3.9/site-packages/pymavlink/mavutil.py:557\u001b[0m, in \u001b[0;36mmavfile.wait_heartbeat\u001b[0;34m(self, blocking, timeout)\u001b[0m\n\u001b[1;32m    555\u001b[0m \u001b[39mdef\u001b[39;00m \u001b[39mwait_heartbeat\u001b[39m(\u001b[39mself\u001b[39m, blocking\u001b[39m=\u001b[39m\u001b[39mTrue\u001b[39;00m, timeout\u001b[39m=\u001b[39m\u001b[39mNone\u001b[39;00m):\n\u001b[1;32m    556\u001b[0m \u001b[39m    \u001b[39m\u001b[39m'''wait for a heartbeat so we know the target system IDs'''\u001b[39;00m\n\u001b[0;32m--> 557\u001b[0m     \u001b[39mreturn\u001b[39;00m \u001b[39mself\u001b[39;49m\u001b[39m.\u001b[39;49mrecv_match(\u001b[39mtype\u001b[39;49m\u001b[39m=\u001b[39;49m\u001b[39m'\u001b[39;49m\u001b[39mHEARTBEAT\u001b[39;49m\u001b[39m'\u001b[39;49m, blocking\u001b[39m=\u001b[39;49mblocking, timeout\u001b[39m=\u001b[39;49mtimeout)\n",
      "File \u001b[0;32m~/.virtualenvs/bluecv/lib/python3.9/site-packages/pymavlink/mavutil.py:524\u001b[0m, in \u001b[0;36mmavfile.recv_match\u001b[0;34m(self, condition, type, blocking, timeout)\u001b[0m\n\u001b[1;32m    522\u001b[0m     hook(\u001b[39mself\u001b[39m)\n\u001b[1;32m    523\u001b[0m \u001b[39mif\u001b[39;00m timeout \u001b[39mis\u001b[39;00m \u001b[39mNone\u001b[39;00m:\n\u001b[0;32m--> 524\u001b[0m     \u001b[39mself\u001b[39;49m\u001b[39m.\u001b[39;49mselect(\u001b[39m0.05\u001b[39;49m)\n\u001b[1;32m    525\u001b[0m \u001b[39melse\u001b[39;00m:\n\u001b[1;32m    526\u001b[0m     \u001b[39mself\u001b[39m\u001b[39m.\u001b[39mselect(timeout\u001b[39m/\u001b[39m\u001b[39m2\u001b[39m)\n",
      "File \u001b[0;32m~/.virtualenvs/bluecv/lib/python3.9/site-packages/pymavlink/mavutil.py:338\u001b[0m, in \u001b[0;36mmavfile.select\u001b[0;34m(self, timeout)\u001b[0m\n\u001b[1;32m    336\u001b[0m     \u001b[39mreturn\u001b[39;00m \u001b[39mTrue\u001b[39;00m\n\u001b[1;32m    337\u001b[0m \u001b[39mtry\u001b[39;00m:\n\u001b[0;32m--> 338\u001b[0m     (rin, win, xin) \u001b[39m=\u001b[39m select\u001b[39m.\u001b[39;49mselect([\u001b[39mself\u001b[39;49m\u001b[39m.\u001b[39;49mfd], [], [], timeout)\n\u001b[1;32m    339\u001b[0m \u001b[39mexcept\u001b[39;00m select\u001b[39m.\u001b[39merror:\n\u001b[1;32m    340\u001b[0m     \u001b[39mreturn\u001b[39;00m \u001b[39mFalse\u001b[39;00m\n",
      "\u001b[0;31mKeyboardInterrupt\u001b[0m: "
     ]
    }
   ],
   "source": [
    "# Create the mavlink connection\n",
    "mav_comn = mavutil.mavlink_connection(\"udpin:0.0.0.0:14550\")\n",
    "\n",
    "# Create the BlueROV object\n",
    "bluerov = BlueROV(mav_connection=mav_comn)\n",
    "\n",
    "frame = None\n",
    "frame_available = Event()\n",
    "frame_available.set()\n",
    "\n",
    "def _get_frame():\n",
    "    global frame\n",
    "    while not video.frame_available():\n",
    "        print(\"Waiting for frame...\")\n",
    "        sleep(0.01)\n",
    "\n",
    "    try:\n",
    "        while True:\n",
    "            # print(\"HERE\")\n",
    "            if video.frame_available():\n",
    "                frame = video.frame()\n",
    "                lines = lane_detection.detect_lines(frame)\n",
    "                lane_detection.draw_lines(frame,lines)\n",
    "                lanes = lane_detection.detect_lanes(frame,lines)\n",
    "                lane_detection.draw_lanes(frame,lanes)\n",
    "            else:\n",
    "                print(\"no tags\")\n",
    "                \n",
    "\n",
    "\n",
    "    except KeyboardInterrupt:\n",
    "        return\n",
    "\n",
    "\n",
    "def _send_rc():\n",
    "    global vertical_power, lateral_power\n",
    "    bluerov.set_rc_channels_to_neutral()\n",
    "    # bluerov.set_rc_channel(9, 1100)\n",
    "    while True:\n",
    "        bluerov.arm()\n",
    "    \n",
    "\n",
    "\n",
    "# Start the video thread\n",
    "video_thread = Thread(target=_get_frame)\n",
    "video_thread.start()\n",
    "\n",
    "# Start the RC thread\n",
    "rc_thread = Thread(target=_send_rc)\n",
    "rc_thread.start()\n",
    "\n",
    "# Main loop\n",
    "try:\n",
    "    while True:\n",
    "        mav_comn.wait_heartbeat()\n",
    "        #_get_frame()\n",
    "\n",
    "except KeyboardInterrupt:\n",
    "    video_thread.join()\n",
    "    rc_thread.join()\n",
    "    bluerov.set_rc_channels_to_neutral()\n",
    "    bluerov.disarm()\n",
    "    print(\"Exiting...\")"
   ]
  },
  {
   "cell_type": "code",
   "execution_count": null,
   "metadata": {},
   "outputs": [],
   "source": [
    "print('Initialising stream...')\n",
    "waited = 0\n",
    "while not video.frame_available():\n",
    "    waited += 1\n",
    "    print('\\r  Frame not available (x{})'.format(waited), end='')\n",
    "    if waited > 100:\n",
    "        print(\"FAILED\")\n",
    "        break\n",
    "\n",
    "print('\\nSuccess!\\nStarting streaming - press \"q\" to quit.')"
   ]
  },
  {
   "cell_type": "code",
   "execution_count": null,
   "metadata": {},
   "outputs": [],
   "source": [
    "if video.frame_available():\n",
    "    # Only retrieve and display a frame if it's new\n",
    "    frame = video.frame()\n",
    "    \n",
    "else:\n",
    "    print(\"Frame not found\")"
   ]
  }
 ],
 "metadata": {
  "kernelspec": {
   "display_name": "bluecv",
   "language": "python",
   "name": "python3"
  },
  "language_info": {
   "codemirror_mode": {
    "name": "ipython",
    "version": 3
   },
   "file_extension": ".py",
   "mimetype": "text/x-python",
   "name": "python",
   "nbconvert_exporter": "python",
   "pygments_lexer": "ipython3",
   "version": "3.9.2"
  },
  "orig_nbformat": 4
 },
 "nbformat": 4,
 "nbformat_minor": 2
}
