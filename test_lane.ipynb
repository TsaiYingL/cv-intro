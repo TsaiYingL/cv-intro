{
 "cells": [
  {
   "cell_type": "code",
   "execution_count": null,
   "metadata": {},
   "outputs": [],
   "source": [
    "import cv2\n",
    "import gi\n",
    "import numpy as np\n",
    "from threading import Thread, Event\n",
    "from time import sleep\n",
    "from pymavlink import mavutil\n",
    "from video import Video\n",
    "from bluerov_interface import BlueROV\n",
    "import lane_detection\n",
    "from video import Video"
   ]
  },
  {
   "cell_type": "code",
   "execution_count": null,
   "metadata": {},
   "outputs": [],
   "source": [
    "# Create the video object\n",
    "video = Video()"
   ]
  },
  {
   "cell_type": "code",
   "execution_count": null,
   "metadata": {},
   "outputs": [],
   "source": [
    "# Create the mavlink connection\n",
    "mav_comn = mavutil.mavlink_connection(\"udpin:0.0.0.0:14550\")\n",
    "\n",
    "# Create the BlueROV object\n",
    "bluerov = BlueROV(mav_connection=mav_comn)\n",
    "\n",
    "frame = None\n",
    "frame_available = Event()\n",
    "frame_available.set()\n",
    "\n",
    "def _get_frame():\n",
    "    global frame\n",
    "    while not video.frame_available():\n",
    "        print(\"Waiting for frame...\")\n",
    "        sleep(0.01)\n",
    "\n",
    "    try:\n",
    "        while True:\n",
    "            #print(\"HERE\")\n",
    "            if video.frame_available():\n",
    "                frame = video.frame()\n",
    "                lines = lane_detection.detect_lines(frame)\n",
    "                if lines is not None:\n",
    "                    lanes = lane_detection.detect_lanes(frame,lines)\n",
    "                    print(lanes)\n",
    "                    print(len(lanes))\n",
    "                    lane_detection.draw_lanes(frame,lanes)\n",
    "                else:\n",
    "                    print(\"No lines detected\")\n",
    "            else:\n",
    "                print(\"no frame\")\n",
    "                \n",
    "\n",
    "\n",
    "    except KeyboardInterrupt:\n",
    "        return\n",
    "\n",
    "\n",
    "def _send_rc():\n",
    "    global vertical_power, lateral_power\n",
    "    bluerov.set_rc_channels_to_neutral()\n",
    "    # bluerov.set_rc_channel(9, 1100)\n",
    "    while True:\n",
    "        bluerov.arm()\n",
    "    \n",
    "\n",
    "\n",
    "# Start the video thread\n",
    "video_thread = Thread(target=_get_frame)\n",
    "video_thread.start()\n",
    "\n",
    "# Start the RC thread\n",
    "rc_thread = Thread(target=_send_rc)\n",
    "rc_thread.start()\n",
    "\n",
    "# Main loop\n",
    "try:\n",
    "    while True:\n",
    "        mav_comn.wait_heartbeat()\n",
    "        #_get_frame()\n",
    "\n",
    "except KeyboardInterrupt:\n",
    "    video_thread.join()\n",
    "    rc_thread.join()\n",
    "    bluerov.set_rc_channels_to_neutral()\n",
    "    bluerov.disarm()\n",
    "    print(\"Exiting...\")"
   ]
  },
  {
   "cell_type": "code",
   "execution_count": null,
   "metadata": {},
   "outputs": [],
   "source": [
    "print('Initialising stream...')\n",
    "waited = 0\n",
    "while not video.frame_available():\n",
    "    waited += 1\n",
    "    print('\\r  Frame not available (x{})'.format(waited), end='')\n",
    "    if waited > 100:\n",
    "        print(\"FAILED\")\n",
    "        break\n",
    "\n",
    "print('\\nSuccess!\\nStarting streaming - press \"q\" to quit.')"
   ]
  },
  {
   "cell_type": "code",
   "execution_count": null,
   "metadata": {},
   "outputs": [],
   "source": [
    "if video.frame_available():\n",
    "    # Only retrieve and display a frame if it's new\n",
    "    frame = video.frame()\n",
    "    \n",
    "else:\n",
    "    print(\"Frame not found\")"
   ]
  }
 ],
 "metadata": {
  "kernelspec": {
   "display_name": "bluecv",
   "language": "python",
   "name": "python3"
  },
  "language_info": {
   "codemirror_mode": {
    "name": "ipython",
    "version": 3
   },
   "file_extension": ".py",
   "mimetype": "text/x-python",
   "name": "python",
   "nbconvert_exporter": "python",
   "pygments_lexer": "ipython3",
   "version": "3.9.2"
  },
  "orig_nbformat": 4
 },
 "nbformat": 4,
 "nbformat_minor": 2
}
